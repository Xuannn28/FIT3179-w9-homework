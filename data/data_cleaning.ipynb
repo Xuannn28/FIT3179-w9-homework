{
 "cells": [
  {
   "cell_type": "code",
   "execution_count": 24,
   "id": "5c8b6882",
   "metadata": {},
   "outputs": [
    {
     "data": {
      "text/html": [
       "<div>\n",
       "<style scoped>\n",
       "    .dataframe tbody tr th:only-of-type {\n",
       "        vertical-align: middle;\n",
       "    }\n",
       "\n",
       "    .dataframe tbody tr th {\n",
       "        vertical-align: top;\n",
       "    }\n",
       "\n",
       "    .dataframe thead th {\n",
       "        text-align: right;\n",
       "    }\n",
       "</style>\n",
       "<table border=\"1\" class=\"dataframe\">\n",
       "  <thead>\n",
       "    <tr style=\"text-align: right;\">\n",
       "      <th></th>\n",
       "      <th>date</th>\n",
       "      <th>state</th>\n",
       "      <th>area</th>\n",
       "    </tr>\n",
       "  </thead>\n",
       "  <tbody>\n",
       "    <tr>\n",
       "      <th>0</th>\n",
       "      <td>2003-01-01</td>\n",
       "      <td>Johor</td>\n",
       "      <td>356922.0</td>\n",
       "    </tr>\n",
       "    <tr>\n",
       "      <th>1</th>\n",
       "      <td>2003-01-01</td>\n",
       "      <td>Kedah</td>\n",
       "      <td>344530.0</td>\n",
       "    </tr>\n",
       "    <tr>\n",
       "      <th>2</th>\n",
       "      <td>2003-01-01</td>\n",
       "      <td>Kelantan</td>\n",
       "      <td>629687.0</td>\n",
       "    </tr>\n",
       "    <tr>\n",
       "      <th>3</th>\n",
       "      <td>2003-01-01</td>\n",
       "      <td>Melaka</td>\n",
       "      <td>5468.0</td>\n",
       "    </tr>\n",
       "    <tr>\n",
       "      <th>4</th>\n",
       "      <td>2003-01-01</td>\n",
       "      <td>Negeri Sembilan</td>\n",
       "      <td>165639.0</td>\n",
       "    </tr>\n",
       "  </tbody>\n",
       "</table>\n",
       "</div>"
      ],
      "text/plain": [
       "         date            state      area\n",
       "0  2003-01-01            Johor  356922.0\n",
       "1  2003-01-01            Kedah  344530.0\n",
       "2  2003-01-01         Kelantan  629687.0\n",
       "3  2003-01-01           Melaka    5468.0\n",
       "4  2003-01-01  Negeri Sembilan  165639.0"
      ]
     },
     "execution_count": 24,
     "metadata": {},
     "output_type": "execute_result"
    }
   ],
   "source": [
    "import pandas as pd\n",
    "\"\"\n",
    "df = pd.read_csv('forest_reserve_state.csv')\n",
    "\n",
    "df.head()"
   ]
  },
  {
   "cell_type": "code",
   "execution_count": 25,
   "id": "1ef37ced",
   "metadata": {},
   "outputs": [
    {
     "name": "stdout",
     "output_type": "stream",
     "text": [
      "Latest year: 2021\n",
      "           date            state      area  year\n",
      "288  2021-01-01            Johor  334502.0  2021\n",
      "289  2021-01-01            Kedah  341976.0  2021\n",
      "290  2021-01-01         Kelantan  629881.0  2021\n",
      "291  2021-01-01           Melaka    5199.0  2021\n",
      "292  2021-01-01  Negeri Sembilan  155143.0  2021\n"
     ]
    }
   ],
   "source": [
    "# Convert date column to datetime & extract year\n",
    "df['year'] = pd.to_datetime(df['date']).dt.year\n",
    "\n",
    "# 🔹 Clean data first\n",
    "df = df[df['state'] != 'Semenanjung Malaysia']\n",
    "\n",
    "rename_map = {\n",
    "    'W.P. Kuala Lumpur': 'Kuala Lumpur',\n",
    "    'W.P. Labuan': 'Labuan',\n",
    "    'W.P. Putrajaya': 'Putrajaya'\n",
    "}\n",
    "df['state'] = df['state'].replace(rename_map)\n",
    "\n",
    "# (Optional) Reset index\n",
    "df = df.reset_index(drop=True)\n",
    "\n",
    "# 🔹 Now find latest year\n",
    "latest_year = df['year'].max()\n",
    "\n",
    "# 🔹 Filter for the latest year\n",
    "df_latest = df[df['year'] == latest_year]\n",
    "\n",
    "print(\"Latest year:\", latest_year)\n",
    "print(df_latest.head())"
   ]
  },
  {
   "cell_type": "code",
   "execution_count": 26,
   "id": "3cf58337",
   "metadata": {},
   "outputs": [],
   "source": [
    "df_latest.to_csv(\"forest_reserve_cleaned.csv\", index=False)"
   ]
  },
  {
   "cell_type": "code",
   "execution_count": null,
   "id": "c8072ea9",
   "metadata": {},
   "outputs": [],
   "source": []
  }
 ],
 "metadata": {
  "kernelspec": {
   "display_name": "Python 3",
   "language": "python",
   "name": "python3"
  },
  "language_info": {
   "codemirror_mode": {
    "name": "ipython",
    "version": 3
   },
   "file_extension": ".py",
   "mimetype": "text/x-python",
   "name": "python",
   "nbconvert_exporter": "python",
   "pygments_lexer": "ipython3",
   "version": "3.11.9"
  }
 },
 "nbformat": 4,
 "nbformat_minor": 5
}
